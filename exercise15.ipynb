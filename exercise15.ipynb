{
 "cells": [
  {
   "cell_type": "code",
   "execution_count": 17,
   "id": "7ab749b6",
   "metadata": {},
   "outputs": [],
   "source": [
    "import pandas as pd #Strg + Enter \n",
    "import numpy as np"
   ]
  },
  {
   "cell_type": "code",
   "execution_count": 22,
   "id": "df3de935",
   "metadata": {
    "scrolled": true
   },
   "outputs": [
    {
     "data": {
      "text/html": [
       "<div>\n",
       "<style scoped>\n",
       "    .dataframe tbody tr th:only-of-type {\n",
       "        vertical-align: middle;\n",
       "    }\n",
       "\n",
       "    .dataframe tbody tr th {\n",
       "        vertical-align: top;\n",
       "    }\n",
       "\n",
       "    .dataframe thead th {\n",
       "        text-align: right;\n",
       "    }\n",
       "</style>\n",
       "<table border=\"1\" class=\"dataframe\">\n",
       "  <thead>\n",
       "    <tr style=\"text-align: right;\">\n",
       "      <th></th>\n",
       "      <th>Bevölkerung</th>\n",
       "      <th>Fläche</th>\n",
       "      <th>Land</th>\n",
       "      <th>Sprache</th>\n",
       "    </tr>\n",
       "  </thead>\n",
       "  <tbody>\n",
       "    <tr>\n",
       "      <th>Berlin</th>\n",
       "      <td>3.6</td>\n",
       "      <td>892</td>\n",
       "      <td>Deutschland</td>\n",
       "      <td>deutsch</td>\n",
       "    </tr>\n",
       "    <tr>\n",
       "      <th>Madrid</th>\n",
       "      <td>3.3</td>\n",
       "      <td>604</td>\n",
       "      <td>Spanien</td>\n",
       "      <td>spanisch</td>\n",
       "    </tr>\n",
       "    <tr>\n",
       "      <th>Rom</th>\n",
       "      <td>2.8</td>\n",
       "      <td>1285</td>\n",
       "      <td>Italien</td>\n",
       "      <td>None</td>\n",
       "    </tr>\n",
       "  </tbody>\n",
       "</table>\n",
       "</div>"
      ],
      "text/plain": [
       "        Bevölkerung  Fläche         Land   Sprache\n",
       "Berlin          3.6     892  Deutschland   deutsch\n",
       "Madrid          3.3     604      Spanien  spanisch\n",
       "Rom             2.8    1285      Italien      None"
      ]
     },
     "execution_count": 22,
     "metadata": {},
     "output_type": "execute_result"
    }
   ],
   "source": [
    "index = [\"Berlin\", \"Madrid\", \"Rom\"]\n",
    "bevölkerung  = pd.Series(data = [3.6, 3.3, 2.8], index = index)\n",
    "fläche = pd.Series(data = [892, 604, 1285], index = index)\n",
    "land = pd.Series(data = [\"Deutschland\", \"Spanien\", \"Italien\"], index = index)\n",
    "sprache = pd.Series(data = [\"deutsch\", \"spanisch\", None], index = index)\n",
    "\n",
    "my_dict = {\n",
    "    'Bevölkerung': bevölkerung,\n",
    "    'Fläche': fläche,\n",
    "    'Land': land,\n",
    "    'Sprache': sprache\n",
    "}\n",
    "\n",
    "df = pd.DataFrame(my_dict)\n",
    "df"
   ]
  },
  {
   "cell_type": "code",
   "execution_count": 7,
   "id": "d6631910",
   "metadata": {},
   "outputs": [
    {
     "data": {
      "text/plain": [
       "(3, 4)"
      ]
     },
     "execution_count": 7,
     "metadata": {},
     "output_type": "execute_result"
    }
   ],
   "source": [
    "df.shape # beschreibt die Form der Daten"
   ]
  },
  {
   "cell_type": "code",
   "execution_count": 8,
   "id": "8482937d",
   "metadata": {},
   "outputs": [
    {
     "data": {
      "text/plain": [
       "Bevölkerung    float64\n",
       "Fläche           int64\n",
       "Land            object\n",
       "Sprache         object\n",
       "dtype: object"
      ]
     },
     "execution_count": 8,
     "metadata": {},
     "output_type": "execute_result"
    }
   ],
   "source": [
    "df.dtypes # Darstellungsart der Daten "
   ]
  },
  {
   "cell_type": "code",
   "execution_count": 9,
   "id": "705910e8",
   "metadata": {},
   "outputs": [
    {
     "name": "stdout",
     "output_type": "stream",
     "text": [
      "<class 'pandas.core.frame.DataFrame'>\n",
      "Index: 3 entries, Berlin to Rom\n",
      "Data columns (total 4 columns):\n",
      " #   Column       Non-Null Count  Dtype  \n",
      "---  ------       --------------  -----  \n",
      " 0   Bevölkerung  3 non-null      float64\n",
      " 1   Fläche       3 non-null      int64  \n",
      " 2   Land         3 non-null      object \n",
      " 3   Sprache      2 non-null      object \n",
      "dtypes: float64(1), int64(1), object(2)\n",
      "memory usage: 120.0+ bytes\n"
     ]
    }
   ],
   "source": [
    "df.info() # class = Objekt"
   ]
  },
  {
   "cell_type": "code",
   "execution_count": 10,
   "id": "a4ec3c73",
   "metadata": {},
   "outputs": [
    {
     "data": {
      "text/html": [
       "<div>\n",
       "<style scoped>\n",
       "    .dataframe tbody tr th:only-of-type {\n",
       "        vertical-align: middle;\n",
       "    }\n",
       "\n",
       "    .dataframe tbody tr th {\n",
       "        vertical-align: top;\n",
       "    }\n",
       "\n",
       "    .dataframe thead th {\n",
       "        text-align: right;\n",
       "    }\n",
       "</style>\n",
       "<table border=\"1\" class=\"dataframe\">\n",
       "  <thead>\n",
       "    <tr style=\"text-align: right;\">\n",
       "      <th></th>\n",
       "      <th>Bevölkerung</th>\n",
       "      <th>Fläche</th>\n",
       "    </tr>\n",
       "  </thead>\n",
       "  <tbody>\n",
       "    <tr>\n",
       "      <th>count</th>\n",
       "      <td>3.000000</td>\n",
       "      <td>3.000000</td>\n",
       "    </tr>\n",
       "    <tr>\n",
       "      <th>mean</th>\n",
       "      <td>3.233333</td>\n",
       "      <td>927.000000</td>\n",
       "    </tr>\n",
       "    <tr>\n",
       "      <th>std</th>\n",
       "      <td>0.404145</td>\n",
       "      <td>341.846457</td>\n",
       "    </tr>\n",
       "    <tr>\n",
       "      <th>min</th>\n",
       "      <td>2.800000</td>\n",
       "      <td>604.000000</td>\n",
       "    </tr>\n",
       "    <tr>\n",
       "      <th>25%</th>\n",
       "      <td>3.050000</td>\n",
       "      <td>748.000000</td>\n",
       "    </tr>\n",
       "    <tr>\n",
       "      <th>50%</th>\n",
       "      <td>3.300000</td>\n",
       "      <td>892.000000</td>\n",
       "    </tr>\n",
       "    <tr>\n",
       "      <th>75%</th>\n",
       "      <td>3.450000</td>\n",
       "      <td>1088.500000</td>\n",
       "    </tr>\n",
       "    <tr>\n",
       "      <th>max</th>\n",
       "      <td>3.600000</td>\n",
       "      <td>1285.000000</td>\n",
       "    </tr>\n",
       "  </tbody>\n",
       "</table>\n",
       "</div>"
      ],
      "text/plain": [
       "       Bevölkerung       Fläche\n",
       "count     3.000000     3.000000\n",
       "mean      3.233333   927.000000\n",
       "std       0.404145   341.846457\n",
       "min       2.800000   604.000000\n",
       "25%       3.050000   748.000000\n",
       "50%       3.300000   892.000000\n",
       "75%       3.450000  1088.500000\n",
       "max       3.600000  1285.000000"
      ]
     },
     "execution_count": 10,
     "metadata": {},
     "output_type": "execute_result"
    }
   ],
   "source": [
    "df.describe() #statistische Werte "
   ]
  },
  {
   "cell_type": "code",
   "execution_count": 11,
   "id": "7b736022",
   "metadata": {},
   "outputs": [
    {
     "data": {
      "text/html": [
       "<div>\n",
       "<style scoped>\n",
       "    .dataframe tbody tr th:only-of-type {\n",
       "        vertical-align: middle;\n",
       "    }\n",
       "\n",
       "    .dataframe tbody tr th {\n",
       "        vertical-align: top;\n",
       "    }\n",
       "\n",
       "    .dataframe thead th {\n",
       "        text-align: right;\n",
       "    }\n",
       "</style>\n",
       "<table border=\"1\" class=\"dataframe\">\n",
       "  <thead>\n",
       "    <tr style=\"text-align: right;\">\n",
       "      <th></th>\n",
       "      <th>Bevölkerung</th>\n",
       "      <th>Fläche</th>\n",
       "      <th>Land</th>\n",
       "      <th>Sprache</th>\n",
       "    </tr>\n",
       "  </thead>\n",
       "  <tbody>\n",
       "    <tr>\n",
       "      <th>Berlin</th>\n",
       "      <td>False</td>\n",
       "      <td>False</td>\n",
       "      <td>False</td>\n",
       "      <td>False</td>\n",
       "    </tr>\n",
       "    <tr>\n",
       "      <th>Madrid</th>\n",
       "      <td>False</td>\n",
       "      <td>False</td>\n",
       "      <td>False</td>\n",
       "      <td>False</td>\n",
       "    </tr>\n",
       "    <tr>\n",
       "      <th>Rom</th>\n",
       "      <td>False</td>\n",
       "      <td>False</td>\n",
       "      <td>False</td>\n",
       "      <td>True</td>\n",
       "    </tr>\n",
       "  </tbody>\n",
       "</table>\n",
       "</div>"
      ],
      "text/plain": [
       "        Bevölkerung  Fläche   Land  Sprache\n",
       "Berlin        False   False  False    False\n",
       "Madrid        False   False  False    False\n",
       "Rom           False   False  False     True"
      ]
     },
     "execution_count": 11,
     "metadata": {},
     "output_type": "execute_result"
    }
   ],
   "source": [
    "df.isnull()"
   ]
  },
  {
   "cell_type": "code",
   "execution_count": 12,
   "id": "480f02ab",
   "metadata": {},
   "outputs": [
    {
     "data": {
      "text/plain": [
       "Bevölkerung    0\n",
       "Fläche         0\n",
       "Land           0\n",
       "Sprache        1\n",
       "dtype: int64"
      ]
     },
     "execution_count": 12,
     "metadata": {},
     "output_type": "execute_result"
    }
   ],
   "source": [
    "df.isnull().sum()"
   ]
  },
  {
   "cell_type": "markdown",
   "id": "3fe66b76",
   "metadata": {},
   "source": [
    "# Frage 2"
   ]
  },
  {
   "cell_type": "code",
   "execution_count": 18,
   "id": "949f9474",
   "metadata": {},
   "outputs": [
    {
     "data": {
      "text/plain": [
       "(array([2], dtype=int64), array([3], dtype=int64))"
      ]
     },
     "execution_count": 18,
     "metadata": {},
     "output_type": "execute_result"
    }
   ],
   "source": [
    "np.where(df.isna())"
   ]
  },
  {
   "cell_type": "code",
   "execution_count": 19,
   "id": "329dc08b",
   "metadata": {},
   "outputs": [
    {
     "data": {
      "text/html": [
       "<div>\n",
       "<style scoped>\n",
       "    .dataframe tbody tr th:only-of-type {\n",
       "        vertical-align: middle;\n",
       "    }\n",
       "\n",
       "    .dataframe tbody tr th {\n",
       "        vertical-align: top;\n",
       "    }\n",
       "\n",
       "    .dataframe thead th {\n",
       "        text-align: right;\n",
       "    }\n",
       "</style>\n",
       "<table border=\"1\" class=\"dataframe\">\n",
       "  <thead>\n",
       "    <tr style=\"text-align: right;\">\n",
       "      <th></th>\n",
       "      <th>Bevölkerung</th>\n",
       "      <th>Fläche</th>\n",
       "      <th>Land</th>\n",
       "      <th>Sprache</th>\n",
       "    </tr>\n",
       "  </thead>\n",
       "  <tbody>\n",
       "    <tr>\n",
       "      <th>Berlin</th>\n",
       "      <td>3.6</td>\n",
       "      <td>892</td>\n",
       "      <td>Deutschland</td>\n",
       "      <td>deutsch</td>\n",
       "    </tr>\n",
       "    <tr>\n",
       "      <th>Madrid</th>\n",
       "      <td>3.3</td>\n",
       "      <td>604</td>\n",
       "      <td>Spanien</td>\n",
       "      <td>spanisch</td>\n",
       "    </tr>\n",
       "    <tr>\n",
       "      <th>Rom</th>\n",
       "      <td>2.8</td>\n",
       "      <td>1285</td>\n",
       "      <td>Italien</td>\n",
       "      <td>italienisch</td>\n",
       "    </tr>\n",
       "  </tbody>\n",
       "</table>\n",
       "</div>"
      ],
      "text/plain": [
       "        Bevölkerung  Fläche         Land      Sprache\n",
       "Berlin          3.6     892  Deutschland      deutsch\n",
       "Madrid          3.3     604      Spanien     spanisch\n",
       "Rom             2.8    1285      Italien  italienisch"
      ]
     },
     "execution_count": 19,
     "metadata": {},
     "output_type": "execute_result"
    }
   ],
   "source": [
    "df.iloc[2, 3]= \"italienisch\" \n",
    "df"
   ]
  },
  {
   "cell_type": "code",
   "execution_count": 21,
   "id": "e422e57f",
   "metadata": {},
   "outputs": [
    {
     "data": {
      "text/html": [
       "<div>\n",
       "<style scoped>\n",
       "    .dataframe tbody tr th:only-of-type {\n",
       "        vertical-align: middle;\n",
       "    }\n",
       "\n",
       "    .dataframe tbody tr th {\n",
       "        vertical-align: top;\n",
       "    }\n",
       "\n",
       "    .dataframe thead th {\n",
       "        text-align: right;\n",
       "    }\n",
       "</style>\n",
       "<table border=\"1\" class=\"dataframe\">\n",
       "  <thead>\n",
       "    <tr style=\"text-align: right;\">\n",
       "      <th></th>\n",
       "      <th>Bevölkerung</th>\n",
       "      <th>Fläche</th>\n",
       "      <th>Land</th>\n",
       "      <th>Sprache</th>\n",
       "    </tr>\n",
       "  </thead>\n",
       "  <tbody>\n",
       "    <tr>\n",
       "      <th>Berlin</th>\n",
       "      <td>3.6</td>\n",
       "      <td>892</td>\n",
       "      <td>Deutschland</td>\n",
       "      <td>deutsch</td>\n",
       "    </tr>\n",
       "    <tr>\n",
       "      <th>Madrid</th>\n",
       "      <td>3.3</td>\n",
       "      <td>604</td>\n",
       "      <td>Spanien</td>\n",
       "      <td>spanisch</td>\n",
       "    </tr>\n",
       "    <tr>\n",
       "      <th>Rom</th>\n",
       "      <td>2.8</td>\n",
       "      <td>1285</td>\n",
       "      <td>Italien</td>\n",
       "      <td>italienisch</td>\n",
       "    </tr>\n",
       "  </tbody>\n",
       "</table>\n",
       "</div>"
      ],
      "text/plain": [
       "        Bevölkerung  Fläche         Land      Sprache\n",
       "Berlin          3.6     892  Deutschland      deutsch\n",
       "Madrid          3.3     604      Spanien     spanisch\n",
       "Rom             2.8    1285      Italien  italienisch"
      ]
     },
     "execution_count": 21,
     "metadata": {},
     "output_type": "execute_result"
    }
   ],
   "source": [
    "df.loc[\"Rom\", \"Sprache\"]= \"italienisch\" \n",
    "df"
   ]
  },
  {
   "cell_type": "code",
   "execution_count": 23,
   "id": "ce64726c",
   "metadata": {},
   "outputs": [
    {
     "data": {
      "text/html": [
       "<div>\n",
       "<style scoped>\n",
       "    .dataframe tbody tr th:only-of-type {\n",
       "        vertical-align: middle;\n",
       "    }\n",
       "\n",
       "    .dataframe tbody tr th {\n",
       "        vertical-align: top;\n",
       "    }\n",
       "\n",
       "    .dataframe thead th {\n",
       "        text-align: right;\n",
       "    }\n",
       "</style>\n",
       "<table border=\"1\" class=\"dataframe\">\n",
       "  <thead>\n",
       "    <tr style=\"text-align: right;\">\n",
       "      <th></th>\n",
       "      <th>Bevölkerung</th>\n",
       "      <th>Fläche</th>\n",
       "      <th>Land</th>\n",
       "      <th>Sprache</th>\n",
       "    </tr>\n",
       "  </thead>\n",
       "  <tbody>\n",
       "    <tr>\n",
       "      <th>Berlin</th>\n",
       "      <td>3.6</td>\n",
       "      <td>892</td>\n",
       "      <td>Deutschland</td>\n",
       "      <td>deutsch</td>\n",
       "    </tr>\n",
       "    <tr>\n",
       "      <th>Madrid</th>\n",
       "      <td>3.3</td>\n",
       "      <td>604</td>\n",
       "      <td>Spanien</td>\n",
       "      <td>spanisch</td>\n",
       "    </tr>\n",
       "    <tr>\n",
       "      <th>Rom</th>\n",
       "      <td>2.8</td>\n",
       "      <td>1285</td>\n",
       "      <td>Italien</td>\n",
       "      <td>None</td>\n",
       "    </tr>\n",
       "  </tbody>\n",
       "</table>\n",
       "</div>"
      ],
      "text/plain": [
       "        Bevölkerung  Fläche         Land   Sprache\n",
       "Berlin          3.6     892  Deutschland   deutsch\n",
       "Madrid          3.3     604      Spanien  spanisch\n",
       "Rom             2.8    1285      Italien      None"
      ]
     },
     "execution_count": 23,
     "metadata": {},
     "output_type": "execute_result"
    }
   ],
   "source": [
    "df #erneuerung wieder entfernt um letzte version zu testen"
   ]
  },
  {
   "cell_type": "code",
   "execution_count": 24,
   "id": "bfd9715a",
   "metadata": {},
   "outputs": [
    {
     "data": {
      "text/html": [
       "<div>\n",
       "<style scoped>\n",
       "    .dataframe tbody tr th:only-of-type {\n",
       "        vertical-align: middle;\n",
       "    }\n",
       "\n",
       "    .dataframe tbody tr th {\n",
       "        vertical-align: top;\n",
       "    }\n",
       "\n",
       "    .dataframe thead th {\n",
       "        text-align: right;\n",
       "    }\n",
       "</style>\n",
       "<table border=\"1\" class=\"dataframe\">\n",
       "  <thead>\n",
       "    <tr style=\"text-align: right;\">\n",
       "      <th></th>\n",
       "      <th>Bevölkerung</th>\n",
       "      <th>Fläche</th>\n",
       "      <th>Land</th>\n",
       "      <th>Sprache</th>\n",
       "    </tr>\n",
       "  </thead>\n",
       "  <tbody>\n",
       "    <tr>\n",
       "      <th>Berlin</th>\n",
       "      <td>3.6</td>\n",
       "      <td>892</td>\n",
       "      <td>Deutschland</td>\n",
       "      <td>deutsch</td>\n",
       "    </tr>\n",
       "    <tr>\n",
       "      <th>Madrid</th>\n",
       "      <td>3.3</td>\n",
       "      <td>604</td>\n",
       "      <td>Spanien</td>\n",
       "      <td>spanisch</td>\n",
       "    </tr>\n",
       "    <tr>\n",
       "      <th>Rom</th>\n",
       "      <td>2.8</td>\n",
       "      <td>1285</td>\n",
       "      <td>Italien</td>\n",
       "      <td>italienisch</td>\n",
       "    </tr>\n",
       "  </tbody>\n",
       "</table>\n",
       "</div>"
      ],
      "text/plain": [
       "        Bevölkerung  Fläche         Land      Sprache\n",
       "Berlin          3.6     892  Deutschland      deutsch\n",
       "Madrid          3.3     604      Spanien     spanisch\n",
       "Rom             2.8    1285      Italien  italienisch"
      ]
     },
     "execution_count": 24,
     "metadata": {},
     "output_type": "execute_result"
    }
   ],
   "source": [
    "df[\"Sprache\"] = df[\"Sprache\"].fillna(\"italienisch\")\n",
    "df"
   ]
  },
  {
   "cell_type": "markdown",
   "id": "d3dd1069",
   "metadata": {},
   "source": [
    "# Frage 3"
   ]
  },
  {
   "cell_type": "code",
   "execution_count": 28,
   "id": "7e86b4e1",
   "metadata": {
    "scrolled": true
   },
   "outputs": [
    {
     "data": {
      "text/html": [
       "<div>\n",
       "<style scoped>\n",
       "    .dataframe tbody tr th:only-of-type {\n",
       "        vertical-align: middle;\n",
       "    }\n",
       "\n",
       "    .dataframe tbody tr th {\n",
       "        vertical-align: top;\n",
       "    }\n",
       "\n",
       "    .dataframe thead th {\n",
       "        text-align: right;\n",
       "    }\n",
       "</style>\n",
       "<table border=\"1\" class=\"dataframe\">\n",
       "  <thead>\n",
       "    <tr style=\"text-align: right;\">\n",
       "      <th></th>\n",
       "      <th>Bevölkerung</th>\n",
       "      <th>Fläche</th>\n",
       "      <th>Land</th>\n",
       "      <th>Sprache</th>\n",
       "    </tr>\n",
       "  </thead>\n",
       "  <tbody>\n",
       "    <tr>\n",
       "      <th>New York</th>\n",
       "      <td>8.5</td>\n",
       "      <td>784</td>\n",
       "      <td>USA</td>\n",
       "      <td>englisch</td>\n",
       "    </tr>\n",
       "  </tbody>\n",
       "</table>\n",
       "</div>"
      ],
      "text/plain": [
       "          Bevölkerung  Fläche Land   Sprache\n",
       "New York          8.5     784  USA  englisch"
      ]
     },
     "execution_count": 28,
     "metadata": {},
     "output_type": "execute_result"
    }
   ],
   "source": [
    "stadt = [\"New York\"]\n",
    "bevölkerung  = pd.Series(data = [8.5], index = stadt)\n",
    "fläche = pd.Series(data = [784], index = stadt)\n",
    "land = pd.Series(data = [\"USA\"], index = stadt)\n",
    "sprache = pd.Series(data = [\"englisch\"], index = stadt)\n",
    "\n",
    "my_dict = {\n",
    "    'Bevölkerung': bevölkerung,\n",
    "    'Fläche': fläche,\n",
    "    'Land': land,\n",
    "    'Sprache': sprache\n",
    "}\n",
    "\n",
    "df2 = pd.DataFrame(my_dict)\n",
    "df2"
   ]
  },
  {
   "cell_type": "markdown",
   "id": "86724f87",
   "metadata": {},
   "source": [
    "# Frage 4"
   ]
  },
  {
   "cell_type": "code",
   "execution_count": 29,
   "id": "3b284b90",
   "metadata": {},
   "outputs": [
    {
     "data": {
      "text/html": [
       "<div>\n",
       "<style scoped>\n",
       "    .dataframe tbody tr th:only-of-type {\n",
       "        vertical-align: middle;\n",
       "    }\n",
       "\n",
       "    .dataframe tbody tr th {\n",
       "        vertical-align: top;\n",
       "    }\n",
       "\n",
       "    .dataframe thead th {\n",
       "        text-align: right;\n",
       "    }\n",
       "</style>\n",
       "<table border=\"1\" class=\"dataframe\">\n",
       "  <thead>\n",
       "    <tr style=\"text-align: right;\">\n",
       "      <th></th>\n",
       "      <th>Bevölkerung</th>\n",
       "      <th>Fläche</th>\n",
       "      <th>Land</th>\n",
       "      <th>Sprache</th>\n",
       "    </tr>\n",
       "  </thead>\n",
       "  <tbody>\n",
       "    <tr>\n",
       "      <th>Berlin</th>\n",
       "      <td>3.6</td>\n",
       "      <td>892</td>\n",
       "      <td>Deutschland</td>\n",
       "      <td>deutsch</td>\n",
       "    </tr>\n",
       "    <tr>\n",
       "      <th>Madrid</th>\n",
       "      <td>3.3</td>\n",
       "      <td>604</td>\n",
       "      <td>Spanien</td>\n",
       "      <td>spanisch</td>\n",
       "    </tr>\n",
       "    <tr>\n",
       "      <th>Rom</th>\n",
       "      <td>2.8</td>\n",
       "      <td>1285</td>\n",
       "      <td>Italien</td>\n",
       "      <td>italienisch</td>\n",
       "    </tr>\n",
       "    <tr>\n",
       "      <th>New York</th>\n",
       "      <td>8.5</td>\n",
       "      <td>784</td>\n",
       "      <td>USA</td>\n",
       "      <td>englisch</td>\n",
       "    </tr>\n",
       "  </tbody>\n",
       "</table>\n",
       "</div>"
      ],
      "text/plain": [
       "          Bevölkerung  Fläche         Land      Sprache\n",
       "Berlin            3.6     892  Deutschland      deutsch\n",
       "Madrid            3.3     604      Spanien     spanisch\n",
       "Rom               2.8    1285      Italien  italienisch\n",
       "New York          8.5     784          USA     englisch"
      ]
     },
     "execution_count": 29,
     "metadata": {},
     "output_type": "execute_result"
    }
   ],
   "source": [
    "df3 = pd.concat([df, df2])\n",
    "df3"
   ]
  },
  {
   "cell_type": "code",
   "execution_count": 31,
   "id": "f6d78358",
   "metadata": {
    "scrolled": true
   },
   "outputs": [
    {
     "data": {
      "text/html": [
       "<div>\n",
       "<style scoped>\n",
       "    .dataframe tbody tr th:only-of-type {\n",
       "        vertical-align: middle;\n",
       "    }\n",
       "\n",
       "    .dataframe tbody tr th {\n",
       "        vertical-align: top;\n",
       "    }\n",
       "\n",
       "    .dataframe thead th {\n",
       "        text-align: right;\n",
       "    }\n",
       "</style>\n",
       "<table border=\"1\" class=\"dataframe\">\n",
       "  <thead>\n",
       "    <tr style=\"text-align: right;\">\n",
       "      <th></th>\n",
       "      <th>Bevölkerung</th>\n",
       "      <th>Fläche</th>\n",
       "      <th>Land</th>\n",
       "      <th>Sprache</th>\n",
       "      <th>EU</th>\n",
       "    </tr>\n",
       "  </thead>\n",
       "  <tbody>\n",
       "    <tr>\n",
       "      <th>Berlin</th>\n",
       "      <td>3.6</td>\n",
       "      <td>892</td>\n",
       "      <td>Deutschland</td>\n",
       "      <td>deutsch</td>\n",
       "      <td>True</td>\n",
       "    </tr>\n",
       "    <tr>\n",
       "      <th>Madrid</th>\n",
       "      <td>3.3</td>\n",
       "      <td>604</td>\n",
       "      <td>Spanien</td>\n",
       "      <td>spanisch</td>\n",
       "      <td>True</td>\n",
       "    </tr>\n",
       "    <tr>\n",
       "      <th>Rom</th>\n",
       "      <td>2.8</td>\n",
       "      <td>1285</td>\n",
       "      <td>Italien</td>\n",
       "      <td>italienisch</td>\n",
       "      <td>True</td>\n",
       "    </tr>\n",
       "    <tr>\n",
       "      <th>New York</th>\n",
       "      <td>8.5</td>\n",
       "      <td>784</td>\n",
       "      <td>USA</td>\n",
       "      <td>englisch</td>\n",
       "      <td>False</td>\n",
       "    </tr>\n",
       "  </tbody>\n",
       "</table>\n",
       "</div>"
      ],
      "text/plain": [
       "          Bevölkerung  Fläche         Land      Sprache     EU\n",
       "Berlin            3.6     892  Deutschland      deutsch   True\n",
       "Madrid            3.3     604      Spanien     spanisch   True\n",
       "Rom               2.8    1285      Italien  italienisch   True\n",
       "New York          8.5     784          USA     englisch  False"
      ]
     },
     "execution_count": 31,
     "metadata": {},
     "output_type": "execute_result"
    }
   ],
   "source": [
    "df3[\"EU\"] = df3[\"Land\"] != \"USA\"\n",
    "df3"
   ]
  },
  {
   "cell_type": "markdown",
   "id": "8c87ed93",
   "metadata": {},
   "source": [
    "# Frage 5"
   ]
  },
  {
   "cell_type": "code",
   "execution_count": 32,
   "id": "d65905ab",
   "metadata": {},
   "outputs": [
    {
     "data": {
      "text/html": [
       "<div>\n",
       "<style scoped>\n",
       "    .dataframe tbody tr th:only-of-type {\n",
       "        vertical-align: middle;\n",
       "    }\n",
       "\n",
       "    .dataframe tbody tr th {\n",
       "        vertical-align: top;\n",
       "    }\n",
       "\n",
       "    .dataframe thead th {\n",
       "        text-align: right;\n",
       "    }\n",
       "</style>\n",
       "<table border=\"1\" class=\"dataframe\">\n",
       "  <thead>\n",
       "    <tr style=\"text-align: right;\">\n",
       "      <th></th>\n",
       "      <th>Bevölkerung</th>\n",
       "      <th>Fläche</th>\n",
       "      <th>Land</th>\n",
       "      <th>Sprache</th>\n",
       "      <th>EU</th>\n",
       "      <th>Region</th>\n",
       "    </tr>\n",
       "  </thead>\n",
       "  <tbody>\n",
       "    <tr>\n",
       "      <th>Berlin</th>\n",
       "      <td>3.6</td>\n",
       "      <td>892</td>\n",
       "      <td>Deutschland</td>\n",
       "      <td>deutsch</td>\n",
       "      <td>True</td>\n",
       "      <td>Europe</td>\n",
       "    </tr>\n",
       "    <tr>\n",
       "      <th>Madrid</th>\n",
       "      <td>3.3</td>\n",
       "      <td>604</td>\n",
       "      <td>Spanien</td>\n",
       "      <td>spanisch</td>\n",
       "      <td>True</td>\n",
       "      <td>Europe</td>\n",
       "    </tr>\n",
       "    <tr>\n",
       "      <th>Rom</th>\n",
       "      <td>2.8</td>\n",
       "      <td>1285</td>\n",
       "      <td>Italien</td>\n",
       "      <td>italienisch</td>\n",
       "      <td>True</td>\n",
       "      <td>Europe</td>\n",
       "    </tr>\n",
       "    <tr>\n",
       "      <th>New York</th>\n",
       "      <td>8.5</td>\n",
       "      <td>784</td>\n",
       "      <td>USA</td>\n",
       "      <td>englisch</td>\n",
       "      <td>False</td>\n",
       "      <td>Americas</td>\n",
       "    </tr>\n",
       "  </tbody>\n",
       "</table>\n",
       "</div>"
      ],
      "text/plain": [
       "          Bevölkerung  Fläche         Land      Sprache     EU    Region\n",
       "Berlin            3.6     892  Deutschland      deutsch   True    Europe\n",
       "Madrid            3.3     604      Spanien     spanisch   True    Europe\n",
       "Rom               2.8    1285      Italien  italienisch   True    Europe\n",
       "New York          8.5     784          USA     englisch  False  Americas"
      ]
     },
     "execution_count": 32,
     "metadata": {},
     "output_type": "execute_result"
    }
   ],
   "source": [
    "df3['Region'] = np.where(df3[\"EU\"]==True, \"Europe\", \"Americas\")\n",
    "df3"
   ]
  }
 ],
 "metadata": {
  "kernelspec": {
   "display_name": "Python 3 (ipykernel)",
   "language": "python",
   "name": "python3"
  },
  "language_info": {
   "codemirror_mode": {
    "name": "ipython",
    "version": 3
   },
   "file_extension": ".py",
   "mimetype": "text/x-python",
   "name": "python",
   "nbconvert_exporter": "python",
   "pygments_lexer": "ipython3",
   "version": "3.11.5"
  }
 },
 "nbformat": 4,
 "nbformat_minor": 5
}
